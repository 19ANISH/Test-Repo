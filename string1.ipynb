{
 "cells": [
  {
   "cell_type": "markdown",
   "id": "3696906c",
   "metadata": {},
   "source": [
    "#string"
   ]
  }
 ],
 "metadata": {},
 "nbformat": 4,
 "nbformat_minor": 5
}
