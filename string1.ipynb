{
 "cells": [
  {
   "cell_type": "markdown",
   "id": "d9e7adaa",
   "metadata": {},
   "source": [
    "#string"
   ]
  },
  {
   "cell_type": "code",
   "execution_count": 2,
   "id": "425e45f2",
   "metadata": {},
   "outputs": [],
   "source": [
    "print('hello world')"
   ]
  },
  {
   "cell_type": "code",
   "execution_count": 3,
   "id": "c9e76bc0",
   "metadata": {},
   "outputs": [],
   "source": [
    "n=5\n",
    "for i in range(n):\n",
    "    print(i)"
   ]
  }
 ],
 "metadata": {},
 "nbformat": 4,
 "nbformat_minor": 5
}
