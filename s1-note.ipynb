{
 "cells": [
  {
   "cell_type": "code",
   "execution_count": 1,
   "id": "197c4778",
   "metadata": {},
   "outputs": [],
   "source": [
    "print('hello')"
   ]
  },
  {
   "cell_type": "markdown",
   "id": "709b5d4d",
   "metadata": {},
   "source": [
    "#header1"
   ]
  },
  {
   "cell_type": "code",
   "execution_count": 3,
   "id": "4ca2bd63",
   "metadata": {},
   "outputs": [],
   "source": [
    "n=4\n",
    "for i in range(n):\n",
    "    print(i)"
   ]
  },
  {
   "cell_type": "markdown",
   "id": "5ac98f1a",
   "metadata": {},
   "source": [
    "#header2"
   ]
  }
 ],
 "metadata": {},
 "nbformat": 4,
 "nbformat_minor": 5
}
