{
 "cells": [
  {
   "cell_type": "code",
   "execution_count": 1,
   "id": "2f9177f7",
   "metadata": {},
   "outputs": [],
   "source": [
    "print('hi')"
   ]
  }
 ],
 "metadata": {},
 "nbformat": 4,
 "nbformat_minor": 5
}
