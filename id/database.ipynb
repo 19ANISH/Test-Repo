{
 "cells": [
  {
   "cell_type": "code",
   "execution_count": 1,
   "id": "852dd0e3",
   "metadata": {},
   "outputs": [],
   "source": [
    "print('string')"
   ]
  }
 ],
 "metadata": {},
 "nbformat": 4,
 "nbformat_minor": 5
}
